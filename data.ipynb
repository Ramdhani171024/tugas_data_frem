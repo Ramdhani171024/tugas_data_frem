{
 "cells": [
  {
   "cell_type": "code",
   "execution_count": 1,
   "metadata": {},
   "outputs": [
    {
     "name": "stdout",
     "output_type": "stream",
     "text": [
      "DataFrame Awal:\n",
      "  Kabupaten/Kota  Produksi Sampah (ton)  Tahun\n",
      "0        Bandung                  50000   2020\n",
      "1          Bogor                  60000   2020\n",
      "2         Bekasi                  55000   2020\n",
      "3         Cimahi                  30000   2020\n",
      "4          Depok                  45000   2020\n",
      "\n",
      "Total produksi sampah di tahun 2020: 240000 ton\n",
      "\n",
      "Jumlah produksi sampah per tahun:\n",
      "   Tahun  Produksi Sampah (ton)\n",
      "0   2020                 240000\n",
      "\n",
      "Jumlah produksi sampah per Kota/Kabupaten per tahun:\n",
      "  Kabupaten/Kota  Tahun  Produksi Sampah (ton)\n",
      "0        Bandung   2020                  50000\n",
      "1         Bekasi   2020                  55000\n",
      "2          Bogor   2020                  60000\n",
      "3         Cimahi   2020                  30000\n",
      "4          Depok   2020                  45000\n"
     ]
    }
   ],
   "source": [
    "import pandas as pd\n",
    "\n",
    "# 1. Buat DataFrame\n",
    "data = {\n",
    "    \"Kabupaten/Kota\": [\"Bandung\", \"Bogor\", \"Bekasi\", \"Cimahi\", \"Depok\"],\n",
    "    \"Produksi Sampah (ton)\": [50000, 60000, 55000, 30000, 45000],\n",
    "    \"Tahun\": [2020, 2020, 2020, 2020, 2020]\n",
    "}\n",
    "\n",
    "df = pd.DataFrame(data)\n",
    "print(\"DataFrame Awal:\")\n",
    "print(df)\n",
    "\n",
    "# 2. Hitung total produksi sampah untuk tahun tertentu\n",
    "tahun_tertentu = 2020\n",
    "total_sampah_tahun = df[df[\"Tahun\"] == tahun_tertentu][\"Produksi Sampah (ton)\"].sum()\n",
    "print(f\"\\nTotal produksi sampah di tahun {tahun_tertentu}: {total_sampah_tahun} ton\")\n",
    "\n",
    "# 3. Jumlahkan data per tahun\n",
    "data_per_tahun = df.groupby(\"Tahun\")[\"Produksi Sampah (ton)\"].sum().reset_index()\n",
    "print(\"\\nJumlah produksi sampah per tahun:\")\n",
    "print(data_per_tahun)\n",
    "\n",
    "# 4. Jumlahkan data per Kota/Kabupaten per tahun\n",
    "data_per_kota_per_tahun = df.groupby([\"Kabupaten/Kota\", \"Tahun\"])[\"Produksi Sampah (ton)\"].sum().reset_index()\n",
    "print(\"\\nJumlah produksi sampah per Kota/Kabupaten per tahun:\")\n",
    "print(data_per_kota_per_tahun)\n"
   ]
  }
 ],
 "metadata": {
  "kernelspec": {
   "display_name": "Python 3",
   "language": "python",
   "name": "python3"
  },
  "language_info": {
   "codemirror_mode": {
    "name": "ipython",
    "version": 3
   },
   "file_extension": ".py",
   "mimetype": "text/x-python",
   "name": "python",
   "nbconvert_exporter": "python",
   "pygments_lexer": "ipython3",
   "version": "3.12.8"
  }
 },
 "nbformat": 4,
 "nbformat_minor": 2
}
